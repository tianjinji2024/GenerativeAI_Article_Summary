{
 "cells": [
  {
   "cell_type": "code",
   "execution_count": 1,
   "id": "8368143b-8b48-4f9f-b5c3-56b4b5a8de59",
   "metadata": {},
   "outputs": [],
   "source": [
    "# install and import the necessary modules\n",
    "# I found the reference to DistilBert in this Huggingface article: https://huggingface.co/blog/sentiment-analysis-python\n",
    "# Also on the documentation of Huggingface.co; https://huggingface.co/transformers/v3.0.2/model_doc/distilbert.html\n",
    "import json\n",
    "# we need to install Pytorch and transformers since they are not preinstalled\n",
    "# For this project, we will use sentence transformer and the pretrained distilbert model\n",
    "# ! pip install torch \n",
    "import torch\n",
    "# ! pip install transformers\n",
    "from transformers import DistilBertTokenizer, DistilBertModel\n",
    "from sentence_transformers import SentenceTransformer, util\n",
    "import numpy as np\n",
    "import re"
   ]
  },
  {
   "cell_type": "markdown",
   "id": "680677e2-2b59-4563-9653-7d451234a5db",
   "metadata": {},
   "source": [
    "# Renewable Energy Innovations article summary\n",
    "1. The data is from https://storage.googleapis.com/ds--tasks-datasets/renewable-energy.zip and should be uploaded into the data folder within the same folder of this file to run the code.\n",
    "2. We will use built in model from DistilBERT for this project\n",
    "3. According to the definition of sentence transformer, senetence embeddings calculation is optimized in the [sentence transformer models](https://huggingface.co/sentence-transformers/msmarco-distilbert-base-tas-b). Therefore, we will utilize the sentence transformers and the pre-trained DistilBert for this task.\n",
    "4. Code is inspired from: https://www.pinecone.io/learn/series/nlp/sentence-embeddings/\n",
    "5. In the project, the key objectives are to extract the key sentences from each article and also compare the similaries and differences between two articles"
   ]
  },
  {
   "cell_type": "markdown",
   "id": "4697a166-ab94-4338-b876-9749e95dd80a",
   "metadata": {},
   "source": [
    "### First, we need to preprcoess the data and read the file\n",
    "* The goal is to read each .txt file into a list and remove unncessary special character or empty space\n",
    "* The data is downloaded and stored in the data folder"
   ]
  },
  {
   "cell_type": "code",
   "execution_count": 2,
   "id": "af76a9fe-2859-4b1b-8663-2740da4bc3e6",
   "metadata": {},
   "outputs": [],
   "source": [
    "# We need to clean the text and remove unncessary special character and whitespace \n",
    "# We can also re\n",
    "\n",
    "def clean_data(text):\n",
    "    text = text.replace(\"\\n\",\"\").replace(\"##\",\"\").replace(\"*\",\"\").strip()\n",
    "    # remove Sources and hyperlink\n",
    "    pattern = r'\\[[^\\]]+\\]\\(([^)]+)\\)'\n",
    "    text_without_link = re.sub(pattern, '', text)\n",
    "    text_without_sources = re.sub(r'Sources:.*',\"\",text_without_link)\n",
    "    return text_without_sources"
   ]
  },
  {
   "cell_type": "code",
   "execution_count": 3,
   "id": "25c2a900-6d16-4cce-9ac5-d1cd6386c4a5",
   "metadata": {},
   "outputs": [],
   "source": [
    "# We will read the .txt file by name, clean the data and stored in a list\n",
    "\n",
    "def read_data_into_list(articleId: str):\n",
    "    with open(f\"data/renewable-energy/{articleId}.txt\", \"r\", encoding=\"utf-8\") as file:\n",
    "        # read the first line(the header)\n",
    "        first_line = file.readline()\n",
    "        # read the remaining of the .txt file\n",
    "        lines = file.readlines()\n",
    "    # join the header and the body by \".\" so that it can be split into list later\n",
    "    full_article = \"\".join(first_line) + \".\" + \"\".join(lines)\n",
    "    \n",
    "    # clean the full_article text file\n",
    "    #print(clean_data(full_article))\n",
    "    # check if there is hyperlink by substitue\n",
    "    article = clean_data(full_article).split(\".\")\n",
    "    \n",
    "    # remove the extracwhite space and empty string in the article \n",
    "    clean_article = []\n",
    "    for i in article:\n",
    "        if i != \"\":\n",
    "            clean_article.append(i.strip())\n",
    "    #print(clean_article)\n",
    "    return clean_article\n"
   ]
  },
  {
   "cell_type": "markdown",
   "id": "0ae5b47b-7c84-46a5-a65a-f54b3b043be5",
   "metadata": {},
   "source": [
    "### The next step is to use the sentence-transformers/msmarco-distilbert-base-tas-b model to generate the senetence embeddings and cosine similarity scores\n",
    "* References for sentence-transformers\n",
    "* [HuggingFace](https://huggingface.co/sentence-transformers/msmarco-distilbert-base-tas-b)\n",
    "* [BERT for Sentence Similarity](https://www.pinecone.io/learn/series/nlp/sentence-embeddings)\n",
    "* There is a depreciated model sentence-transformers/distilbert-base-nli-mean-tokens that HuggingFace does not recommend. [Documentation](https://huggingface.co/sentence-transformers/distilbert-base-nli-mean-tokens)\n",
    "* We will use the average similarities for a sentence across all senetence to determine the significance for the senetence\n",
    "* We generate  key sentences from each article(without considering hyperlinks and including headers)"
   ]
  },
  {
   "cell_type": "code",
   "execution_count": 4,
   "id": "712c5d10-1848-4f88-b8f9-9e09a36c347c",
   "metadata": {},
   "outputs": [],
   "source": [
    "#Load the model according to HuggingFace documentation(https://huggingface.co/sentence-transformers/msmarco-distilbert-base-tas-b)\n",
    "\n",
    "model = SentenceTransformer('sentence-transformers/msmarco-distilbert-base-tas-b')\n",
    "\n",
    "# After this step, I tested how this model works using the above reference articles in test2()\n"
   ]
  },
  {
   "cell_type": "markdown",
   "id": "b6c35d87-1799-459b-9be7-7eec32aedd19",
   "metadata": {},
   "source": [
    "### Then we implement the extractKeySentences(articleId: str) function to obtain the top 5 most important senetences for each article\n"
   ]
  },
  {
   "cell_type": "code",
   "execution_count": 37,
   "id": "a1ab8898-4c58-4111-8be1-83efa17eaf94",
   "metadata": {},
   "outputs": [],
   "source": [
    "# Next, let's implement first function: extractKeySentences(articleId: str)\n",
    "# This function takes an articleid and returns the key sentence extracted from the article\n",
    "# References: https://huggingface.co/sentence-transformers/msmarco-distilbert-base-tas-b\n",
    "# (https://www.pinecone.io/learn/series/nlp/sentence-embeddings)\n",
    "# I already tested the code in test2() function below so just move things in here\n",
    "\n",
    "def extractKeySentences(articleId: str):\n",
    "    \n",
    "    # First, read in the cleaned sentences\n",
    "    sentences = read_data_into_list(articleId)\n",
    "\n",
    "    # Generate embedding\n",
    "    embeddings = model.encode(sentences)\n",
    "\n",
    "    # Generate the similarity matrix\n",
    "    sim = np.zeros((len(sentences), len(sentences)))\n",
    "    for i in range(len(sentences)):\n",
    "        sim[i:,i] = util.cos_sim(embeddings[i], embeddings[i:])\n",
    "\n",
    "    # We need a complete  similarity matrix to calculate the the average similarity of a sentence with regards to all other senetnces\n",
    "    sim += sim.T - np.diag(sim.diagonal())\n",
    "\n",
    "    # Calculate the mean for each senetence\n",
    "    mean_matrix = np.mean(sim, axis =0)\n",
    "\n",
    "    # rank it based on the highest average similarities with regards to all sentences\n",
    "    # reference: https://www.geeksforgeeks.org/how-to-use-numpy-argsort-in-descending-order-in-python/\n",
    "    desc_index = np.argsort(-mean_matrix)\n",
    "\n",
    "    # decode back to the sentence, get top 5 senetnces\n",
    "    key_sentences = []\n",
    "    for i in desc_index[0:5]:\n",
    "        key_sentences.append(sentences[i-1])\n",
    "    \n",
    "    #generate response in the required JSON format\n",
    "    response ={\n",
    "        \"articleId\": articleId,\n",
    "        \"keySentences\": key_sentences\n",
    "    }\n",
    "    return json.dumps(response)\n",
    "    \n",
    "\n",
    "\n"
   ]
  },
  {
   "cell_type": "markdown",
   "id": "8653d3a6-51b2-483a-9901-193af45b4c83",
   "metadata": {},
   "source": [
    "### We then use the above extractKeySentences(articleId: str) function to compare the similarities and differences between two articles."
   ]
  },
  {
   "cell_type": "code",
   "execution_count": 51,
   "id": "7b31b1a2-8dc0-424a-b7cb-c0291db1aa95",
   "metadata": {},
   "outputs": [],
   "source": [
    "# 2. Implement compareArticles(articleId1: str, articleId2: str) function\n",
    "# To compare the similaries and differences between 2 articles, we use the result from the extractKeySentences() function above\n",
    "# We compute the similarity score for the 5 key sentences between the two articles and rank them based on how similar/different they are\n",
    "def compareArticles(articleId1: str, articleId2: str):\n",
    "    #First, we obtain 5 key sentences from the two articles\n",
    "    key_sentences1 = json.loads(extractKeySentences(articleId1))[\"keySentences\"]\n",
    "    key_sentences2 = json.loads(extractKeySentences(articleId2))[\"keySentences\"]\n",
    "\n",
    "    # Then the same steps as the first function, we compute the sentence embedding for the 3 sentences\n",
    "    # the same references apply\n",
    "    # First, we encode both group of key senetences\n",
    "    embeddings1 = model.encode(key_sentences1)\n",
    "    embeddings2 = model.encode(key_sentences2)\n",
    "\n",
    "    # Generate the similarity matrix\n",
    "    sim = np.zeros((len(key_sentences1), len(key_sentences2)))\n",
    "    for i in range(len(key_sentences1)):\n",
    "        for j in range(len(key_sentences2)):\n",
    "            similarity = util.cos_sim(embeddings1[i], embeddings2[j])\n",
    "            sim[i, j] = similarity\n",
    "            #print(f\"Article 1 Sentence {i+1} has similarity {similarity} with Article 2 Sentence {j+1}\")\n",
    "\n",
    "    #print(sim)\n",
    "    #print(\"max_sim\",np.unravel_index(np.argmax(sim), sim.shape))\n",
    "    # The similarity matrix has similar value, so we print out the most similar and most different\n",
    "    max_index = np.unravel_index(np.argmax(sim), sim.shape)\n",
    "    similar_sentence = [key_sentences1[max_index[0]],key_sentences2[max_index[1]]]\n",
    "    min_index = np.unravel_index(np.argmin(sim), sim.shape)\n",
    "    different_sentence = [key_sentences1[min_index[0]],key_sentences2[min_index[1]]]\n",
    "\n",
    "    # Generate the response\n",
    "    response ={\n",
    "        \"articleId1\": articleId1,\n",
    "        \"articleId2\": articleId2,\n",
    "        \"MostSimilar\": similar_sentence,\n",
    "        \"MostDifferent\": different_sentence\n",
    "    }\n",
    "\n",
    "    return json.dumps(response)\n",
    "    "
   ]
  },
  {
   "cell_type": "markdown",
   "id": "d4a2aacf-9073-4f5e-912e-a74573caac8a",
   "metadata": {},
   "source": [
    "## Conclusion\n",
    "* The similarity comparison between articles works well; however, since the articles have similar topics, the difference between then are minor\n",
    "* We summarized based on the key senetences because they are the essence of the meaning of the articles. Future works could include summarize based on all senetences and compare similarity and differences."
   ]
  },
  {
   "cell_type": "markdown",
   "id": "98b5ed10-b2d5-4ec3-b573-76f49f753d4c",
   "metadata": {},
   "source": [
    "#### Test\n",
    "---- This section is for testing the above code"
   ]
  },
  {
   "cell_type": "code",
   "execution_count": 6,
   "id": "d4917db0-200d-486e-9d0f-278339c2828c",
   "metadata": {},
   "outputs": [],
   "source": [
    "# Test the clean data and read data functions\n",
    "def test1():\n",
    "    #articleId = \"1\"\n",
    "    #articleId = \"5\"\n",
    "    #articleId = \"28\"\n",
    "    articleId = \"30\"\n",
    "    sentences = read_data_into_list(articleId)\n",
    "    return sentences"
   ]
  },
  {
   "cell_type": "code",
   "execution_count": 7,
   "id": "46ab9bff-760e-485f-ba4f-f1891bc6fe01",
   "metadata": {},
   "outputs": [
    {
     "data": {
      "text/plain": [
       "['The Global Rise of Renewables: Statistics, Outlook, Challenges, and Opportunities',\n",
       " 'The global landscape of energy is undergoing a significant transformation, with renewable energy taking center stage',\n",
       " \"Here's a glimpse into the current trends, future outlook, challenges, and opportunities:Statistics paint a promising picture: Global renewable energy capacity: It has grown exponentially in recent years, surpassing 2,900 gigawatts (GW) in 2023 [1]\",\n",
       " 'Share of global electricity generation: Renewables currently account for over 30%, with projections for it to reach nearly 50% by 2030 [2]',\n",
       " 'Future outlook: Exponential growth: The International Renewable Energy Agency (IRENA) predicts doubling of global renewable energy capacity by 2030 [3]',\n",
       " 'Emerging markets lead the charge: Developing countries are expected to rapidly adopt renewables, bypassing traditional fossil fuel infrastructure [4]',\n",
       " 'Challenges to address: Grid integration: Integrating variable renewable sources like solar and wind into the existing grid requires smart grid technology and storage solutions',\n",
       " 'Policy and regulations: Consistent and supportive policy frameworks are crucial to incentivize investment and accelerate renewable energy deployment',\n",
       " 'Public perception: Addressing concerns about environmental impact and social responsibility of renewable energy projects is essential for broader acceptance',\n",
       " 'Opportunities for growth: Technological advancements: Continued advancements in battery storage, solar panel efficiency, and offshore wind technology will further enhance the economic viability and scalability of renewables',\n",
       " 'Investment opportunities: The transition to renewables presents significant investment opportunities across the entire value chain, attracting private and public capital',\n",
       " 'Job creation: The renewable energy sector is expected to create millions of new jobs globally, contributing to economic growth and development',\n",
       " 'In conclusion, the global adoption of renewable energy is experiencing a significant surge, driven by advancements in technology, growing awareness of climate change, and supportive policies',\n",
       " 'While challenges remain, the opportunities for growth are immense, paving the way for a more sustainable and secure energy future']"
      ]
     },
     "execution_count": 7,
     "metadata": {},
     "output_type": "execute_result"
    }
   ],
   "source": [
    "# Looks good with articleID 1, 5, 28, 30\n",
    "# 30 has Sources and hyperlinks, need to remove them\n",
    "test1()"
   ]
  },
  {
   "cell_type": "code",
   "execution_count": 35,
   "id": "38ce0c34-b5cb-4fcc-a859-da9189902e62",
   "metadata": {},
   "outputs": [],
   "source": [
    "# This test is to use the output for the previous cell(clean text) for the sentence transformer model\n",
    "# tested with articleID 1, 5, 28, 30\n",
    "# Reference: https://www.pinecone.io/learn/series/nlp/sentence-embeddings/\n",
    "# https://huggingface.co/sentence-transformers/msmarco-distilbert-base-tas-b\n",
    "def test2():\n",
    "    sentences = test1()\n",
    "    # Generate embedding\n",
    "    embeddings = model.encode(sentences)\n",
    "    print(embeddings.shape)\n",
    "    # Generate the similarity matrix\n",
    "    sim = np.zeros((len(sentences), len(sentences)))\n",
    "    for i in range(len(sentences)):\n",
    "        sim[i:,i] = util.cos_sim(embeddings[i], embeddings[i:])\n",
    "    print(sim.shape)\n",
    "    print(sim)\n",
    "    # a printout test\n",
    "    # We can sorte this matrix by obtaining the maximun similarity between \n",
    "\n",
    "    #flattened_sim = sim.flatten()\n",
    "    #sorted_indices = np.argsort(flattened_sim)[::-1]\n",
    "    #for idx in sorted_indices:\n",
    "        #row = idx // len(sentences)  # Calculate the row index\n",
    "        #col = idx % len(sentences)   # Calculate the column index\n",
    "        #if (row != col) and (flattened_sim[idx] != 0.0):\n",
    "            #similarity = flattened_sim[idx]\n",
    "            #print(f\"Sentence {row} and Sentence {col} have similarity: {similarity}\")\n",
    "    # We need a complete  similarity matrix to calculate the the average similarity with regards to all other senetnces\n",
    "    sim += sim.T - np.diag(sim.diagonal())\n",
    "    print(sim)\n",
    "    # Calculate the mean for each senetence\n",
    "    mean_matrix = np.mean(sim, axis =0)\n",
    "    print(\"mean\",mean_matrix)\n",
    "    # rank it based on the highest average similarities with regards to all sentences\n",
    "    # reference: https://www.geeksforgeeks.org/how-to-use-numpy-argsort-in-descending-order-in-python/\n",
    "    desc_index = np.argsort(-mean_matrix)\n",
    "    print(desc_index[0:5])\n",
    "    # decode back to the sentence, get top 5 senetnces\n",
    "    key_sentences = []\n",
    "    for i in desc_index[0:5]:\n",
    "        key_sentences.append(sentences[i-1])\n",
    "    print(\"key sentences\", key_sentences)\n",
    "\n"
   ]
  },
  {
   "cell_type": "code",
   "execution_count": 36,
   "id": "c51ecb5a-0ff1-47ee-9283-712b53d23878",
   "metadata": {},
   "outputs": [
    {
     "name": "stdout",
     "output_type": "stream",
     "text": [
      "(14, 768)\n",
      "(14, 14)\n",
      "[[1.         0.         0.         0.         0.         0.\n",
      "  0.         0.         0.         0.         0.         0.\n",
      "  0.         0.        ]\n",
      " [0.84058553 0.9999997  0.         0.         0.         0.\n",
      "  0.         0.         0.         0.         0.         0.\n",
      "  0.         0.        ]\n",
      " [0.86522269 0.82144064 1.         0.         0.         0.\n",
      "  0.         0.         0.         0.         0.         0.\n",
      "  0.         0.        ]\n",
      " [0.86214864 0.80927432 0.8461082  0.99999994 0.         0.\n",
      "  0.         0.         0.         0.         0.         0.\n",
      "  0.         0.        ]\n",
      " [0.83005738 0.79084533 0.83754724 0.82878906 0.99999988 0.\n",
      "  0.         0.         0.         0.         0.         0.\n",
      "  0.         0.        ]\n",
      " [0.83903873 0.79067636 0.793212   0.81566989 0.79433572 1.00000024\n",
      "  0.         0.         0.         0.         0.         0.\n",
      "  0.         0.        ]\n",
      " [0.81585222 0.78366804 0.76487404 0.7595439  0.73025995 0.78751814\n",
      "  1.00000024 0.         0.         0.         0.         0.\n",
      "  0.         0.        ]\n",
      " [0.80674684 0.78881371 0.76985294 0.75328833 0.78831941 0.80004114\n",
      "  0.78703451 0.99999976 0.         0.         0.         0.\n",
      "  0.         0.        ]\n",
      " [0.811634   0.80047572 0.76536536 0.78814995 0.75951707 0.77676064\n",
      "  0.7711584  0.80898982 0.99999988 0.         0.         0.\n",
      "  0.         0.        ]\n",
      " [0.82215428 0.76405931 0.77842224 0.76389128 0.76727837 0.7791099\n",
      "  0.81245857 0.7928949  0.76255798 1.00000012 0.         0.\n",
      "  0.         0.        ]\n",
      " [0.86431897 0.85167623 0.79187274 0.80014348 0.77065992 0.83915973\n",
      "  0.81667399 0.81400162 0.82252729 0.80820805 1.00000024 0.\n",
      "  0.         0.        ]\n",
      " [0.86689025 0.82682657 0.82323515 0.84407383 0.82744223 0.83234984\n",
      "  0.77967644 0.81198037 0.82893807 0.82365823 0.85616261 0.99999994\n",
      "  0.         0.        ]\n",
      " [0.8856324  0.88317323 0.82890451 0.84280568 0.82651746 0.82941568\n",
      "  0.79523844 0.84506643 0.83748746 0.82425183 0.83536708 0.85177678\n",
      "  0.99999976 0.        ]\n",
      " [0.86257285 0.81302387 0.82867599 0.80247927 0.80425924 0.82046783\n",
      "  0.80477035 0.82710642 0.81942928 0.84849912 0.8402971  0.85746044\n",
      "  0.85245091 0.99999988]]\n",
      "[[1.         0.84058553 0.86522269 0.86214864 0.83005738 0.83903873\n",
      "  0.81585222 0.80674684 0.811634   0.82215428 0.86431897 0.86689025\n",
      "  0.8856324  0.86257285]\n",
      " [0.84058553 0.9999997  0.82144064 0.80927432 0.79084533 0.79067636\n",
      "  0.78366804 0.78881371 0.80047572 0.76405931 0.85167623 0.82682657\n",
      "  0.88317323 0.81302387]\n",
      " [0.86522269 0.82144064 1.         0.8461082  0.83754724 0.793212\n",
      "  0.76487404 0.76985294 0.76536536 0.77842224 0.79187274 0.82323515\n",
      "  0.82890451 0.82867599]\n",
      " [0.86214864 0.80927432 0.8461082  0.99999994 0.82878906 0.81566989\n",
      "  0.7595439  0.75328833 0.78814995 0.76389128 0.80014348 0.84407383\n",
      "  0.84280568 0.80247927]\n",
      " [0.83005738 0.79084533 0.83754724 0.82878906 0.99999988 0.79433572\n",
      "  0.73025995 0.78831941 0.75951707 0.76727837 0.77065992 0.82744223\n",
      "  0.82651746 0.80425924]\n",
      " [0.83903873 0.79067636 0.793212   0.81566989 0.79433572 1.00000024\n",
      "  0.78751814 0.80004114 0.77676064 0.7791099  0.83915973 0.83234984\n",
      "  0.82941568 0.82046783]\n",
      " [0.81585222 0.78366804 0.76487404 0.7595439  0.73025995 0.78751814\n",
      "  1.00000024 0.78703451 0.7711584  0.81245857 0.81667399 0.77967644\n",
      "  0.79523844 0.80477035]\n",
      " [0.80674684 0.78881371 0.76985294 0.75328833 0.78831941 0.80004114\n",
      "  0.78703451 0.99999976 0.80898982 0.7928949  0.81400162 0.81198037\n",
      "  0.84506643 0.82710642]\n",
      " [0.811634   0.80047572 0.76536536 0.78814995 0.75951707 0.77676064\n",
      "  0.7711584  0.80898982 0.99999988 0.76255798 0.82252729 0.82893807\n",
      "  0.83748746 0.81942928]\n",
      " [0.82215428 0.76405931 0.77842224 0.76389128 0.76727837 0.7791099\n",
      "  0.81245857 0.7928949  0.76255798 1.00000012 0.80820805 0.82365823\n",
      "  0.82425183 0.84849912]\n",
      " [0.86431897 0.85167623 0.79187274 0.80014348 0.77065992 0.83915973\n",
      "  0.81667399 0.81400162 0.82252729 0.80820805 1.00000024 0.85616261\n",
      "  0.83536708 0.8402971 ]\n",
      " [0.86689025 0.82682657 0.82323515 0.84407383 0.82744223 0.83234984\n",
      "  0.77967644 0.81198037 0.82893807 0.82365823 0.85616261 0.99999994\n",
      "  0.85177678 0.85746044]\n",
      " [0.8856324  0.88317323 0.82890451 0.84280568 0.82651746 0.82941568\n",
      "  0.79523844 0.84506643 0.83748746 0.82425183 0.83536708 0.85177678\n",
      "  0.99999976 0.85245091]\n",
      " [0.86257285 0.81302387 0.82867599 0.80247927 0.80425924 0.82046783\n",
      "  0.80477035 0.82710642 0.81942928 0.84849912 0.8402971  0.85746044\n",
      "  0.85245091 0.99999988]]\n",
      "mean [0.85520391 0.82603847 0.82248098 0.82259755 0.81113059 0.82126827\n",
      " 0.80062337 0.81386687 0.81092792 0.81053173 0.83650493 0.84503362\n",
      " 0.85272055 0.84153518]\n",
      "[ 0 12 11 13 10]\n",
      "key sentences ['While challenges remain, the opportunities for growth are immense, paving the way for a more sustainable and secure energy future', 'Job creation: The renewable energy sector is expected to create millions of new jobs globally, contributing to economic growth and development', 'Investment opportunities: The transition to renewables presents significant investment opportunities across the entire value chain, attracting private and public capital', 'In conclusion, the global adoption of renewable energy is experiencing a significant surge, driven by advancements in technology, growing awareness of climate change, and supportive policies', 'Opportunities for growth: Technological advancements: Continued advancements in battery storage, solar panel efficiency, and offshore wind technology will further enhance the economic viability and scalability of renewables']\n"
     ]
    }
   ],
   "source": [
    "test2()"
   ]
  },
  {
   "cell_type": "code",
   "execution_count": 38,
   "id": "23cec630-a61f-436a-b67c-7e72d091f59f",
   "metadata": {},
   "outputs": [],
   "source": [
    "# Test 3 is to test extractKeySentences() function\n",
    "# see if the result is the same as test2()\n",
    "def test3():\n",
    "    #articleId = \"1\"\n",
    "    #articleId = \"5\"\n",
    "    #articleId = \"28\"\n",
    "    articleId = \"30\"\n",
    "    key_sentences = extractKeySentences(articleId)\n",
    "    print(key_sentences)\n"
   ]
  },
  {
   "cell_type": "code",
   "execution_count": 39,
   "id": "0805d0c7-19c9-4621-b98a-23849e8e28c7",
   "metadata": {},
   "outputs": [
    {
     "name": "stdout",
     "output_type": "stream",
     "text": [
      "{\"articleId\": \"30\", \"keySentences\": [\"While challenges remain, the opportunities for growth are immense, paving the way for a more sustainable and secure energy future\", \"Job creation: The renewable energy sector is expected to create millions of new jobs globally, contributing to economic growth and development\", \"Investment opportunities: The transition to renewables presents significant investment opportunities across the entire value chain, attracting private and public capital\", \"In conclusion, the global adoption of renewable energy is experiencing a significant surge, driven by advancements in technology, growing awareness of climate change, and supportive policies\", \"Opportunities for growth: Technological advancements: Continued advancements in battery storage, solar panel efficiency, and offshore wind technology will further enhance the economic viability and scalability of renewables\"]}\n"
     ]
    }
   ],
   "source": [
    "test3()"
   ]
  },
  {
   "cell_type": "code",
   "execution_count": 60,
   "id": "3283b8ae-aa3b-4e96-a50d-f0103757a8a6",
   "metadata": {},
   "outputs": [],
   "source": [
    "# Test the compareArticles() function\n",
    "def test4():\n",
    "    #articleId1 = \"1\"\n",
    "    articleId1 = \"10\"\n",
    "    articleId2 = \"28\"\n",
    "    #articleId2 = \"30\"\n",
    "    return compareArticles(articleId1,articleId2)"
   ]
  },
  {
   "cell_type": "code",
   "execution_count": 61,
   "id": "666694dd-e45f-43d5-abb0-d0087c832895",
   "metadata": {},
   "outputs": [
    {
     "data": {
      "text/plain": [
       "'{\"articleId1\": \"10\", \"articleId2\": \"28\", \"MostSimilar\": [\"As we delve deeper and leverage smarter systems, geothermal is poised to play a larger role in our clean and sustainable energy future\", \"Embracing these opportunities through continued technological advancements, supportive policies, and responsible implementation holds the key to unlocking a clean, sustainable, and secure energy future for generations to come\"], \"MostDifferent\": [\"Geothermal: Delving Deeper with New Exploration and Systems\", \"Looking ahead, the outlook is promising: IEA\\'s Net Zero by 2050 scenario: This influential roadmap predicts renewables supplying nearly 80% of global electricity by 2050, highlighting their crucial role in achieving climate goals\"]}'"
      ]
     },
     "execution_count": 61,
     "metadata": {},
     "output_type": "execute_result"
    }
   ],
   "source": [
    "# Tested article 1 and article 5\n",
    "# Tested Artcile 10 and 30\n",
    "# Tested Artcile 10 and 28\n",
    "test4()"
   ]
  },
  {
   "cell_type": "code",
   "execution_count": null,
   "id": "2de1b3c4-f7b4-440a-8fbe-5b4cf3a889a8",
   "metadata": {},
   "outputs": [],
   "source": []
  }
 ],
 "metadata": {
  "kernelspec": {
   "display_name": "Python 3 (ipykernel)",
   "language": "python",
   "name": "python3"
  },
  "language_info": {
   "codemirror_mode": {
    "name": "ipython",
    "version": 3
   },
   "file_extension": ".py",
   "mimetype": "text/x-python",
   "name": "python",
   "nbconvert_exporter": "python",
   "pygments_lexer": "ipython3",
   "version": "3.11.3"
  }
 },
 "nbformat": 4,
 "nbformat_minor": 5
}
